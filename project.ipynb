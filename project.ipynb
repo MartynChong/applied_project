{
 "cells": [
  {
   "cell_type": "markdown",
   "id": "033873db",
   "metadata": {},
   "source": [
    "conda create --name applied_project numpy ipykernel jupyter pandas matplotlib yfinance ta conda-forge::scikit-learn"
   ]
  },
  {
   "cell_type": "markdown",
   "id": "7b4f618d",
   "metadata": {},
   "source": [
    "# Data Preparation\n",
    "- Gold Features: Open, High, Low, Volume, Lagged Features, Returns, Price Changes\n",
    "- Technical Features: MA, EMA, Bollinger Bands, RSI, MACD, ATR\n",
    "- Macro Features: USD Index DXY, Crude Oil Index, Interest Rates, CPI, S&P 500 Index, VIX, Money Supply\n",
    "- Categorical Features: Date, Month, Year, Day"
   ]
  },
  {
   "cell_type": "code",
   "execution_count": 181,
   "id": "0604572f",
   "metadata": {},
   "outputs": [
    {
     "name": "stdout",
     "output_type": "stream",
     "text": [
      "Index(['date', 'price', 'open', 'high', 'low', 'volume', 'change'], dtype='object')\n",
      "(4965, 7)\n"
     ]
    }
   ],
   "source": [
    "import pandas as pd\n",
    "\n",
    "# Process Gold Features\n",
    "df = pd.read_csv(\"Gold Futures Historical Data.csv\")\n",
    "print(df.columns)\n",
    "print(df.shape)"
   ]
  },
  {
   "cell_type": "code",
   "execution_count": 182,
   "id": "aabd1eed",
   "metadata": {},
   "outputs": [
    {
     "name": "stdout",
     "output_type": "stream",
     "text": [
      "0\n"
     ]
    }
   ],
   "source": [
    "# Convert date column to datetime\n",
    "df['date'] = pd.to_datetime(df['date'], format=\"%m/%d/%Y\", errors='coerce')\n",
    "\n",
    "# Make sure no NaT\n",
    "missing_dates: int = df['date'].isna().sum()\n",
    "print(missing_dates) # 0\n",
    "\n",
    "# Sort by date, asc\n",
    "df = df.sort_values('date').reset_index(drop=True)\n",
    "\n",
    "# Create year, month and quarter columns\n",
    "df['year'] = df['date'].dt.year\n",
    "df['month'] = df['date'].dt.month\n",
    "df['quarter'] = df['date'].dt.quarter\n"
   ]
  },
  {
   "cell_type": "code",
   "execution_count": 183,
   "id": "3bd47626",
   "metadata": {},
   "outputs": [
    {
     "name": "stdout",
     "output_type": "stream",
     "text": [
      "date       datetime64[ns]\n",
      "price             float64\n",
      "open              float64\n",
      "high              float64\n",
      "low               float64\n",
      "volume            float64\n",
      "change            float64\n",
      "year                int32\n",
      "month               int32\n",
      "quarter             int32\n",
      "dtype: object\n"
     ]
    }
   ],
   "source": [
    "# Fix variable data types - convert to numeric\n",
    "# Remove final char from volume and change\n",
    "df['volume'] = df['volume'].str[:-1]\n",
    "df['change'] = df['change'].str[:-1]\n",
    "\n",
    "# Remove commas and convert to float\n",
    "df[[\"open\", \"price\", \"high\", \"low\", \"volume\", \"change\"]] = df[[\"open\", \"price\", \"high\", \"low\", \"volume\", \"change\"]].replace(',', '', regex=True).astype(float).round(2)\n",
    "print(df.dtypes)"
   ]
  },
  {
   "cell_type": "code",
   "execution_count": 184,
   "id": "6521f50a",
   "metadata": {},
   "outputs": [
    {
     "name": "stderr",
     "output_type": "stream",
     "text": [
      "C:\\Users\\marty_xtbhkav\\AppData\\Local\\Temp\\ipykernel_57324\\3720098556.py:12: PerformanceWarning: DataFrame is highly fragmented.  This is usually the result of calling `frame.insert` many times, which has poor performance.  Consider joining all columns at once using pd.concat(axis=1) instead. To get a de-fragmented frame, use `newframe = frame.copy()`\n",
      "  data.insert(loc=position, column=col_name, value=col_val)\n"
     ]
    },
    {
     "data": {
      "image/png": "[encoded data removed]",
      "text/plain": [
       "<Figure size 640x480 with 1 Axes>"
      ]
     },
     "metadata": {},
     "output_type": "display_data"
    }
   ],
   "source": [
    "import numpy as np\n",
    "import matplotlib.pyplot as plt \n",
    "from sklearn.feature_selection import mutual_info_regression\n",
    "\n",
    "# add lags we set in \"lag_list\" and place them in order to the dataset.\n",
    "def Add_Lag(data,col,lag_list):\n",
    "    position = data.columns.tolist().index(col)\n",
    "\n",
    "    for lag in lag_list:\n",
    "        col_val = data[col].shift(lag)\n",
    "        col_name = col+'_lag:'+'{length}'.format(length=lag)\n",
    "        data.insert(loc=position, column=col_name, value=col_val)\n",
    "    return data\n",
    "\n",
    "def mutual_information_lag(Data,col,n_lag,k_best):\n",
    "    \n",
    "    #create a dataset by selecting just one column from Gold dataset; a dataset with just one column of {Open,Close,High,Low,Volume} and time as index\n",
    "    data = pd.DataFrame(Data[col])\n",
    "    \n",
    "    #create the dataset that its columns are lags with different shifts\n",
    "    mic_df = Add_Lag(data,col,[i+1 for i in range(n_lag)])\n",
    "    mic_ordered = {}\n",
    "    \n",
    "    #calculating the mutual information score between lag columns and target column; one of {Open,Close,High,Low,Volume} which selected above\n",
    "    for i in range(1,n_lag+1):\n",
    "        \n",
    "        i_lag = mic_df[mic_df.columns[mic_df.shape[1]-i-1]][i:]\n",
    "        i_lag_name = mic_df.columns[mic_df.shape[1]-i-1]\n",
    "        score = mutual_info_regression(np.array(i_lag).reshape(-1, 1), mic_df[col][i:])\n",
    "        mic_ordered[i_lag_name] = score[0]\n",
    "    \n",
    "    #descend sort the lag list by their mutual information score\n",
    "    sorted_mic = {k: v for k, v in sorted(mic_ordered.items(),reverse=True, key=lambda item: item[1])}\n",
    "    \n",
    "    #select the k first lags that have most mutual information scor\n",
    "    selected_lags = list(sorted_mic.keys())[:k_best]\n",
    "    \n",
    "    #create a list of best k lags obtained above\n",
    "    select_lag_num = []\n",
    "    for i in selected_lags:\n",
    "        \n",
    "        pos = i.find(':')\n",
    "        select_lag_num.append(int(i[pos+1:]))\n",
    "        \n",
    "    select_lag_num_sort = sorted(select_lag_num)\n",
    "    \n",
    "    #draw a plot that visualize all lags (not just best k lags) and their mutul information score with the target\n",
    "    plt.plot([i+1 for i in range(n_lag)], sorted_mic.values(),'--bo', label = \"mutual information score\")\n",
    "    plt.xticks(rotation = 90)\n",
    "    plt.legend()\n",
    "    plt.show()\n",
    "    \n",
    "    return select_lag_num_sort,sorted_mic,selected_lags,sorted_mic.values()\n",
    "\n",
    "best_lags = mutual_information_lag(df,'open',100,10)"
   ]
  },
  {
   "cell_type": "code",
   "execution_count": null,
   "id": "f40ca24a",
   "metadata": {},
   "outputs": [],
   "source": [
    "# Visually, we can see lags 1 and 2 contain the most information\n",
    "columns_to_lag = ['price', 'open', 'volume']\n",
    "\n",
    "for col in columns_to_lag:\n",
    "    for lag in [1,2]:\n",
    "        df[f'{col}_lag_{lag}'] = df[col].shift(lag)\n",
    "\n",
    "df.columns"
   ]
  },
  {
   "cell_type": "markdown",
   "id": "dc6cd9bf",
   "metadata": {},
   "source": [
    "TA Technical Indicators:\n",
    "\n",
    "Trend Indicators\n",
    "\n",
    "Momentum Indicators\n",
    "\n",
    "Volatility Indicators"
   ]
  },
  {
   "cell_type": "code",
   "execution_count": 98,
   "id": "daf82d4b",
   "metadata": {},
   "outputs": [
    {
     "ename": "IndexError",
     "evalue": "index 13 is out of bounds for axis 0 with size 0",
     "output_type": "error",
     "traceback": [
      "\u001b[31m---------------------------------------------------------------------------\u001b[39m",
      "\u001b[31mIndexError\u001b[39m                                Traceback (most recent call last)",
      "\u001b[36mCell\u001b[39m\u001b[36m \u001b[39m\u001b[32mIn[98]\u001b[39m\u001b[32m, line 25\u001b[39m\n\u001b[32m     22\u001b[39m df[\u001b[33m'\u001b[39m\u001b[33mBB_lower\u001b[39m\u001b[33m'\u001b[39m] = boll.bollinger_lband()\n\u001b[32m     23\u001b[39m df[\u001b[33m'\u001b[39m\u001b[33mBB_width\u001b[39m\u001b[33m'\u001b[39m] = df[\u001b[33m'\u001b[39m\u001b[33mBB_upper\u001b[39m\u001b[33m'\u001b[39m] - df[\u001b[33m'\u001b[39m\u001b[33mBB_lower\u001b[39m\u001b[33m'\u001b[39m]\n\u001b[32m---> \u001b[39m\u001b[32m25\u001b[39m df[\u001b[33m'\u001b[39m\u001b[33mATR\u001b[39m\u001b[33m'\u001b[39m] = \u001b[43mta\u001b[49m\u001b[43m.\u001b[49m\u001b[43mvolatility\u001b[49m\u001b[43m.\u001b[49m\u001b[43mAverageTrueRange\u001b[49m\u001b[43m(\u001b[49m\u001b[43mhigh\u001b[49m\u001b[43m=\u001b[49m\u001b[43mdf\u001b[49m\u001b[43m[\u001b[49m\u001b[33;43m'\u001b[39;49m\u001b[33;43mhigh\u001b[39;49m\u001b[33;43m'\u001b[39;49m\u001b[43m]\u001b[49m\u001b[43m,\u001b[49m\u001b[43m \u001b[49m\u001b[43mlow\u001b[49m\u001b[43m=\u001b[49m\u001b[43mdf\u001b[49m\u001b[43m[\u001b[49m\u001b[33;43m'\u001b[39;49m\u001b[33;43mlow\u001b[39;49m\u001b[33;43m'\u001b[39;49m\u001b[43m]\u001b[49m\u001b[43m,\u001b[49m\u001b[43m \u001b[49m\u001b[43mclose\u001b[49m\u001b[43m=\u001b[49m\u001b[43mdf\u001b[49m\u001b[43m[\u001b[49m\u001b[33;43m'\u001b[39;49m\u001b[33;43mclose\u001b[39;49m\u001b[33;43m'\u001b[39;49m\u001b[43m]\u001b[49m\u001b[43m)\u001b[49m.average_true_range()\n",
      "\u001b[36mFile \u001b[39m\u001b[32mc:\\Users\\marty_xtbhkav\\miniconda3\\envs\\applied_project\\Lib\\site-packages\\ta\\volatility.py:44\u001b[39m, in \u001b[36mAverageTrueRange.__init__\u001b[39m\u001b[34m(self, high, low, close, window, fillna)\u001b[39m\n\u001b[32m     42\u001b[39m \u001b[38;5;28mself\u001b[39m._window = window\n\u001b[32m     43\u001b[39m \u001b[38;5;28mself\u001b[39m._fillna = fillna\n\u001b[32m---> \u001b[39m\u001b[32m44\u001b[39m \u001b[38;5;28;43mself\u001b[39;49m\u001b[43m.\u001b[49m\u001b[43m_run\u001b[49m\u001b[43m(\u001b[49m\u001b[43m)\u001b[49m\n",
      "\u001b[36mFile \u001b[39m\u001b[32mc:\\Users\\marty_xtbhkav\\miniconda3\\envs\\applied_project\\Lib\\site-packages\\ta\\volatility.py:50\u001b[39m, in \u001b[36mAverageTrueRange._run\u001b[39m\u001b[34m(self)\u001b[39m\n\u001b[32m     48\u001b[39m true_range = \u001b[38;5;28mself\u001b[39m._true_range(\u001b[38;5;28mself\u001b[39m._high, \u001b[38;5;28mself\u001b[39m._low, close_shift)\n\u001b[32m     49\u001b[39m atr = np.zeros(\u001b[38;5;28mlen\u001b[39m(\u001b[38;5;28mself\u001b[39m._close))\n\u001b[32m---> \u001b[39m\u001b[32m50\u001b[39m \u001b[43matr\u001b[49m\u001b[43m[\u001b[49m\u001b[38;5;28;43mself\u001b[39;49m\u001b[43m.\u001b[49m\u001b[43m_window\u001b[49m\u001b[43m \u001b[49m\u001b[43m-\u001b[49m\u001b[43m \u001b[49m\u001b[32;43m1\u001b[39;49m\u001b[43m]\u001b[49m = true_range[\u001b[32m0\u001b[39m : \u001b[38;5;28mself\u001b[39m._window].mean()\n\u001b[32m     51\u001b[39m \u001b[38;5;28;01mfor\u001b[39;00m i \u001b[38;5;129;01min\u001b[39;00m \u001b[38;5;28mrange\u001b[39m(\u001b[38;5;28mself\u001b[39m._window, \u001b[38;5;28mlen\u001b[39m(atr)):\n\u001b[32m     52\u001b[39m     atr[i] = (atr[i - \u001b[32m1\u001b[39m] * (\u001b[38;5;28mself\u001b[39m._window - \u001b[32m1\u001b[39m) + true_range.iloc[i]) / \u001b[38;5;28mfloat\u001b[39m(\n\u001b[32m     53\u001b[39m         \u001b[38;5;28mself\u001b[39m._window\n\u001b[32m     54\u001b[39m     )\n",
      "\u001b[31mIndexError\u001b[39m: index 13 is out of bounds for axis 0 with size 0"
     ]
    }
   ],
   "source": [
    "# Add Technical Features\n",
    "import ta\n",
    "\n",
    "# Initialize ta features (adds automatically NaNs at the beginning)\n",
    "# 1. Trend Indicators\n",
    "df['SMA_10'] = ta.trend.SMAIndicator(close=df['close'], window=10).sma_indicator()\n",
    "df['EMA_10'] = ta.trend.EMAIndicator(close=df['close'], window=10).ema_indicator()\n",
    "macd = ta.trend.MACD(close=df['close'])\n",
    "df['MACD'] = macd.macd()\n",
    "df['MACD_signal'] = macd.macd_signal()\n",
    "df['MACD_diff'] = macd.macd_diff()\n",
    "\n",
    "# 2. Momentum Indicators\n",
    "df['RSI'] = ta.momentum.RSIIndicator(close=df['close'], window=14).rsi()\n",
    "stoch = ta.momentum.StochasticOscillator(high=df['high'], low=df['low'], close=df['close'])\n",
    "df['Stoch_K'] = stoch.stoch()\n",
    "df['Stoch_D'] = stoch.stoch_signal()\n",
    "\n",
    "# 3. Volatility Indicators\n",
    "boll = ta.volatility.BollingerBands(close=df['close'], window=20, window_dev=2)\n",
    "df['BB_upper'] = boll.bollinger_hband()\n",
    "df['BB_lower'] = boll.bollinger_lband()\n",
    "df['BB_width'] = df['BB_upper'] - df['BB_lower']\n",
    "\n",
    "df['ATR'] = ta.volatility.AverageTrueRange(high=df['high'], low=df['low'], close=df['close']).average_true_range()"
   ]
  }
 ],
 "metadata": {
  "kernelspec": {
   "display_name": "applied_project",
   "language": "python",
   "name": "python3"
  },
  "language_info": {
   "codemirror_mode": {
    "name": "ipython",
    "version": 3
   },
   "file_extension": ".py",
   "mimetype": "text/x-python",
   "name": "python",
   "nbconvert_exporter": "python",
   "pygments_lexer": "ipython3",
   "version": "3.13.5"
  }
 },
 "nbformat": 4,
 "nbformat_minor": 5
}
