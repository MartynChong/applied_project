{
 "cells": [
  {
   "cell_type": "markdown",
   "id": "033873db",
   "metadata": {},
   "source": [
    "conda create --name applied_project numpy ipykernel jupyter pandas matplotlib ta conda-forge::scikit-learn anaconda::pandas-datareader"
   ]
  },
  {
   "cell_type": "markdown",
   "id": "7b4f618d",
   "metadata": {},
   "source": [
    "# Data Preparation\n",
    "- Gold Features: Open, High, Low, Volume, Lagged Features, Returns, Price Changes\n",
    "- Technical Features: MA, EMA, Bollinger Bands, RSI, MACD, ATR\n",
    "- Macro Features: USD Index DXY, Crude Oil Index, Interest Rates, CPI, S&P 500 Index, VIX, Money Supply\n",
    "- Categorical Features: Date, Month, Year, Day"
   ]
  },
  {
   "cell_type": "code",
   "execution_count": 57,
   "id": "0604572f",
   "metadata": {},
   "outputs": [
    {
     "name": "stdout",
     "output_type": "stream",
     "text": [
      "Index(['date', 'price', 'open', 'high', 'low', 'volume', 'change'], dtype='object')\n",
      "(4965, 7)\n"
     ]
    }
   ],
   "source": [
    "import pandas as pd\n",
    "\n",
    "# Process Gold Features\n",
    "df = pd.read_csv(\"Gold Futures Historical Data.csv\")\n",
    "print(df.columns)\n",
    "print(df.shape)"
   ]
  },
  {
   "cell_type": "code",
   "execution_count": 58,
   "id": "aabd1eed",
   "metadata": {},
   "outputs": [
    {
     "name": "stdout",
     "output_type": "stream",
     "text": [
      "0\n"
     ]
    }
   ],
   "source": [
    "# Convert date column to datetime\n",
    "df['date'] = pd.to_datetime(df['date'], format=\"%m/%d/%Y\", errors='coerce')\n",
    "\n",
    "# Make sure no NaT\n",
    "missing_dates: int = df['date'].isna().sum()\n",
    "print(missing_dates) # 0\n",
    "\n",
    "# Sort by date, asc\n",
    "df = df.sort_values('date').reset_index(drop=True)\n",
    "\n",
    "# Create year, month and quarter columns\n",
    "df['year'] = df['date'].dt.year\n",
    "df['month'] = df['date'].dt.month\n",
    "df['quarter'] = df['date'].dt.quarter\n"
   ]
  },
  {
   "cell_type": "code",
   "execution_count": 59,
   "id": "3bd47626",
   "metadata": {},
   "outputs": [
    {
     "name": "stdout",
     "output_type": "stream",
     "text": [
      "date       datetime64[ns]\n",
      "price             float64\n",
      "open              float64\n",
      "high              float64\n",
      "low               float64\n",
      "volume            float64\n",
      "change            float64\n",
      "year                int32\n",
      "month               int32\n",
      "quarter             int32\n",
      "dtype: object\n"
     ]
    }
   ],
   "source": [
    "# Fix variable data types - convert to numeric\n",
    "# Remove final char from volume and change\n",
    "df['volume'] = df['volume'].str[:-1]\n",
    "df['change'] = df['change'].str[:-1]\n",
    "\n",
    "# Remove commas and convert to float\n",
    "df[[\"open\", \"price\", \"high\", \"low\", \"volume\", \"change\"]] = df[[\"open\", \"price\", \"high\", \"low\", \"volume\", \"change\"]].replace(',', '', regex=True).astype(float).round(2)\n",
    "print(df.dtypes)"
   ]
  },
  {
   "cell_type": "code",
   "execution_count": 60,
   "id": "6521f50a",
   "metadata": {},
   "outputs": [
    {
     "name": "stderr",
     "output_type": "stream",
     "text": [
      "C:\\Users\\marty\\AppData\\Local\\Temp\\ipykernel_24496\\3720098556.py:12: PerformanceWarning: DataFrame is highly fragmented.  This is usually the result of calling `frame.insert` many times, which has poor performance.  Consider joining all columns at once using pd.concat(axis=1) instead. To get a de-fragmented frame, use `newframe = frame.copy()`\n",
      "  data.insert(loc=position, column=col_name, value=col_val)\n"
     ]
    },
    {
     "data": {
      "image/png": "[encoded data removed]",
      "text/plain": [
       "<Figure size 640x480 with 1 Axes>"
      ]
     },
     "metadata": {},
     "output_type": "display_data"
    }
   ],
   "source": [
    "import numpy as np\n",
    "import matplotlib.pyplot as plt \n",
    "from sklearn.feature_selection import mutual_info_regression\n",
    "\n",
    "# add lags we set in \"lag_list\" and place them in order to the dataset.\n",
    "def Add_Lag(data,col,lag_list):\n",
    "    position = data.columns.tolist().index(col)\n",
    "\n",
    "    for lag in lag_list:\n",
    "        col_val = data[col].shift(lag)\n",
    "        col_name = col+'_lag:'+'{length}'.format(length=lag)\n",
    "        data.insert(loc=position, column=col_name, value=col_val)\n",
    "    return data\n",
    "\n",
    "def mutual_information_lag(Data,col,n_lag,k_best):\n",
    "    \n",
    "    #create a dataset by selecting just one column from Gold dataset; a dataset with just one column of {Open,Close,High,Low,Volume} and time as index\n",
    "    data = pd.DataFrame(Data[col])\n",
    "    \n",
    "    #create the dataset that its columns are lags with different shifts\n",
    "    mic_df = Add_Lag(data,col,[i+1 for i in range(n_lag)])\n",
    "    mic_ordered = {}\n",
    "    \n",
    "    #calculating the mutual information score between lag columns and target column; one of {Open,Close,High,Low,Volume} which selected above\n",
    "    for i in range(1,n_lag+1):\n",
    "        \n",
    "        i_lag = mic_df[mic_df.columns[mic_df.shape[1]-i-1]][i:]\n",
    "        i_lag_name = mic_df.columns[mic_df.shape[1]-i-1]\n",
    "        score = mutual_info_regression(np.array(i_lag).reshape(-1, 1), mic_df[col][i:])\n",
    "        mic_ordered[i_lag_name] = score[0]\n",
    "    \n",
    "    #descend sort the lag list by their mutual information score\n",
    "    sorted_mic = {k: v for k, v in sorted(mic_ordered.items(),reverse=True, key=lambda item: item[1])}\n",
    "    \n",
    "    #select the k first lags that have most mutual information scor\n",
    "    selected_lags = list(sorted_mic.keys())[:k_best]\n",
    "    \n",
    "    #create a list of best k lags obtained above\n",
    "    select_lag_num = []\n",
    "    for i in selected_lags:\n",
    "        \n",
    "        pos = i.find(':')\n",
    "        select_lag_num.append(int(i[pos+1:]))\n",
    "        \n",
    "    select_lag_num_sort = sorted(select_lag_num)\n",
    "    \n",
    "    #draw a plot that visualize all lags (not just best k lags) and their mutul information score with the target\n",
    "    plt.plot([i+1 for i in range(n_lag)], sorted_mic.values(),'--bo', label = \"mutual information score\")\n",
    "    plt.xticks(rotation = 90)\n",
    "    plt.legend()\n",
    "    plt.show()\n",
    "    \n",
    "    return select_lag_num_sort,sorted_mic,selected_lags,sorted_mic.values()\n",
    "\n",
    "best_lags = mutual_information_lag(df,'open',100,10)"
   ]
  },
  {
   "cell_type": "code",
   "execution_count": 61,
   "id": "f40ca24a",
   "metadata": {},
   "outputs": [
    {
     "data": {
      "text/plain": [
       "Index(['date', 'price', 'open', 'high', 'low', 'volume', 'change', 'year',\n",
       "       'month', 'quarter', 'price_lag_1', 'price_lag_2', 'open_lag_1',\n",
       "       'open_lag_2', 'volume_lag_1', 'volume_lag_2'],\n",
       "      dtype='object')"
      ]
     },
     "execution_count": 61,
     "metadata": {},
     "output_type": "execute_result"
    }
   ],
   "source": [
    "# Visually, we can see lags 1 and 2 contain the most information\n",
    "columns_to_lag = ['price', 'open', 'volume']\n",
    "\n",
    "for col in columns_to_lag:\n",
    "    for lag in [1,2]:\n",
    "        df[f'{col}_lag_{lag}'] = df[col].shift(lag)\n",
    "\n",
    "df.columns"
   ]
  },
  {
   "cell_type": "markdown",
   "id": "dc6cd9bf",
   "metadata": {},
   "source": [
    "## TA Technical Indicators:\n",
    "\n",
    "Trend Indicators\n",
    "\n",
    "Momentum Indicators\n",
    "\n",
    "Volatility Indicators"
   ]
  },
  {
   "cell_type": "code",
   "execution_count": 62,
   "id": "daf82d4b",
   "metadata": {},
   "outputs": [],
   "source": [
    "# Add Technical Features\n",
    "import ta\n",
    "\n",
    "# Initialize ta features (adds automatically NaNs at the beginning)\n",
    "# 1. Trend Indicators\n",
    "df['SMA_10'] = ta.trend.SMAIndicator(close=df['price'], window=10).sma_indicator()\n",
    "df['EMA_10'] = ta.trend.EMAIndicator(close=df['price'], window=10).ema_indicator()\n",
    "macd = ta.trend.MACD(close=df['price'])\n",
    "df['MACD'] = macd.macd()\n",
    "df['MACD_signal'] = macd.macd_signal()\n",
    "df['MACD_diff'] = macd.macd_diff()\n",
    "\n",
    "# 2. Momentum Indicators\n",
    "df['RSI'] = ta.momentum.RSIIndicator(close=df['price'], window=14).rsi()\n",
    "stoch = ta.momentum.StochasticOscillator(high=df['high'], low=df['low'], close=df['price'])\n",
    "df['Stoch_K'] = stoch.stoch()\n",
    "df['Stoch_D'] = stoch.stoch_signal()\n",
    "\n",
    "# 3. Volatility Indicators\n",
    "boll = ta.volatility.BollingerBands(close=df['price'], window=20, window_dev=2)\n",
    "df['BB_upper'] = boll.bollinger_hband()\n",
    "df['BB_lower'] = boll.bollinger_lband()\n",
    "df['BB_width'] = df['BB_upper'] - df['BB_lower']\n",
    "\n",
    "df['ATR'] = ta.volatility.AverageTrueRange(high=df['high'], low=df['low'], close=df['price']).average_true_range()\n",
    "\n",
    "df.dropna(inplace=True)  # Drop rows with NaN values after adding indicators"
   ]
  },
  {
   "cell_type": "code",
   "execution_count": 63,
   "id": "ede0dda7",
   "metadata": {},
   "outputs": [
    {
     "data": {
      "text/html": [
       "<div>\n",
       "<style scoped>\n",
       "    .dataframe tbody tr th:only-of-type {\n",
       "        vertical-align: middle;\n",
       "    }\n",
       "\n",
       "    .dataframe tbody tr th {\n",
       "        vertical-align: top;\n",
       "    }\n",
       "\n",
       "    .dataframe thead th {\n",
       "        text-align: right;\n",
       "    }\n",
       "</style>\n",
       "<table border=\"1\" class=\"dataframe\">\n",
       "  <thead>\n",
       "    <tr style=\"text-align: right;\">\n",
       "      <th></th>\n",
       "      <th>date</th>\n",
       "      <th>price</th>\n",
       "      <th>open</th>\n",
       "      <th>high</th>\n",
       "      <th>low</th>\n",
       "      <th>volume</th>\n",
       "      <th>change</th>\n",
       "      <th>year</th>\n",
       "      <th>month</th>\n",
       "      <th>quarter</th>\n",
       "      <th>...</th>\n",
       "      <th>MACD</th>\n",
       "      <th>MACD_signal</th>\n",
       "      <th>MACD_diff</th>\n",
       "      <th>RSI</th>\n",
       "      <th>Stoch_K</th>\n",
       "      <th>Stoch_D</th>\n",
       "      <th>BB_upper</th>\n",
       "      <th>BB_lower</th>\n",
       "      <th>BB_width</th>\n",
       "      <th>ATR</th>\n",
       "    </tr>\n",
       "  </thead>\n",
       "  <tbody>\n",
       "    <tr>\n",
       "      <th>33</th>\n",
       "      <td>2006-02-21</td>\n",
       "      <td>556.6</td>\n",
       "      <td>557.7</td>\n",
       "      <td>559.5</td>\n",
       "      <td>553.9</td>\n",
       "      <td>42.09</td>\n",
       "      <td>0.36</td>\n",
       "      <td>2006</td>\n",
       "      <td>2</td>\n",
       "      <td>1</td>\n",
       "      <td>...</td>\n",
       "      <td>0.126940</td>\n",
       "      <td>1.941141</td>\n",
       "      <td>-1.814202</td>\n",
       "      <td>51.353616</td>\n",
       "      <td>45.083933</td>\n",
       "      <td>37.250200</td>\n",
       "      <td>581.568850</td>\n",
       "      <td>539.031150</td>\n",
       "      <td>42.537701</td>\n",
       "      <td>11.804005</td>\n",
       "    </tr>\n",
       "    <tr>\n",
       "      <th>34</th>\n",
       "      <td>2006-02-22</td>\n",
       "      <td>556.6</td>\n",
       "      <td>556.9</td>\n",
       "      <td>557.7</td>\n",
       "      <td>549.8</td>\n",
       "      <td>45.84</td>\n",
       "      <td>0.00</td>\n",
       "      <td>2006</td>\n",
       "      <td>2</td>\n",
       "      <td>1</td>\n",
       "      <td>...</td>\n",
       "      <td>0.266040</td>\n",
       "      <td>1.606121</td>\n",
       "      <td>-1.340081</td>\n",
       "      <td>51.353616</td>\n",
       "      <td>45.083933</td>\n",
       "      <td>43.485212</td>\n",
       "      <td>581.534892</td>\n",
       "      <td>538.915108</td>\n",
       "      <td>42.619784</td>\n",
       "      <td>11.525147</td>\n",
       "    </tr>\n",
       "    <tr>\n",
       "      <th>35</th>\n",
       "      <td>2006-02-23</td>\n",
       "      <td>550.9</td>\n",
       "      <td>556.1</td>\n",
       "      <td>558.4</td>\n",
       "      <td>550.3</td>\n",
       "      <td>42.15</td>\n",
       "      <td>-1.02</td>\n",
       "      <td>2006</td>\n",
       "      <td>2</td>\n",
       "      <td>1</td>\n",
       "      <td>...</td>\n",
       "      <td>-0.082711</td>\n",
       "      <td>1.268355</td>\n",
       "      <td>-1.351066</td>\n",
       "      <td>47.672348</td>\n",
       "      <td>32.587065</td>\n",
       "      <td>40.918310</td>\n",
       "      <td>581.304222</td>\n",
       "      <td>537.985778</td>\n",
       "      <td>43.318444</td>\n",
       "      <td>11.280494</td>\n",
       "    </tr>\n",
       "    <tr>\n",
       "      <th>36</th>\n",
       "      <td>2006-02-24</td>\n",
       "      <td>561.2</td>\n",
       "      <td>551.5</td>\n",
       "      <td>562.0</td>\n",
       "      <td>549.6</td>\n",
       "      <td>58.72</td>\n",
       "      <td>1.87</td>\n",
       "      <td>2006</td>\n",
       "      <td>2</td>\n",
       "      <td>1</td>\n",
       "      <td>...</td>\n",
       "      <td>0.466646</td>\n",
       "      <td>1.108013</td>\n",
       "      <td>-0.641367</td>\n",
       "      <td>54.078400</td>\n",
       "      <td>58.208955</td>\n",
       "      <td>45.293318</td>\n",
       "      <td>581.379693</td>\n",
       "      <td>538.040307</td>\n",
       "      <td>43.339386</td>\n",
       "      <td>11.360459</td>\n",
       "    </tr>\n",
       "    <tr>\n",
       "      <th>37</th>\n",
       "      <td>2006-02-27</td>\n",
       "      <td>557.0</td>\n",
       "      <td>561.0</td>\n",
       "      <td>561.7</td>\n",
       "      <td>554.8</td>\n",
       "      <td>35.16</td>\n",
       "      <td>-0.75</td>\n",
       "      <td>2006</td>\n",
       "      <td>2</td>\n",
       "      <td>1</td>\n",
       "      <td>...</td>\n",
       "      <td>0.556693</td>\n",
       "      <td>0.997749</td>\n",
       "      <td>-0.441056</td>\n",
       "      <td>51.319486</td>\n",
       "      <td>51.752022</td>\n",
       "      <td>47.516014</td>\n",
       "      <td>581.318995</td>\n",
       "      <td>537.921005</td>\n",
       "      <td>43.397991</td>\n",
       "      <td>11.041854</td>\n",
       "    </tr>\n",
       "  </tbody>\n",
       "</table>\n",
       "<p>5 rows × 28 columns</p>\n",
       "</div>"
      ],
      "text/plain": [
       "         date  price   open   high    low  volume  change  year  month  \\\n",
       "33 2006-02-21  556.6  557.7  559.5  553.9   42.09    0.36  2006      2   \n",
       "34 2006-02-22  556.6  556.9  557.7  549.8   45.84    0.00  2006      2   \n",
       "35 2006-02-23  550.9  556.1  558.4  550.3   42.15   -1.02  2006      2   \n",
       "36 2006-02-24  561.2  551.5  562.0  549.6   58.72    1.87  2006      2   \n",
       "37 2006-02-27  557.0  561.0  561.7  554.8   35.16   -0.75  2006      2   \n",
       "\n",
       "    quarter  ...      MACD  MACD_signal  MACD_diff        RSI    Stoch_K  \\\n",
       "33        1  ...  0.126940     1.941141  -1.814202  51.353616  45.083933   \n",
       "34        1  ...  0.266040     1.606121  -1.340081  51.353616  45.083933   \n",
       "35        1  ... -0.082711     1.268355  -1.351066  47.672348  32.587065   \n",
       "36        1  ...  0.466646     1.108013  -0.641367  54.078400  58.208955   \n",
       "37        1  ...  0.556693     0.997749  -0.441056  51.319486  51.752022   \n",
       "\n",
       "      Stoch_D    BB_upper    BB_lower   BB_width        ATR  \n",
       "33  37.250200  581.568850  539.031150  42.537701  11.804005  \n",
       "34  43.485212  581.534892  538.915108  42.619784  11.525147  \n",
       "35  40.918310  581.304222  537.985778  43.318444  11.280494  \n",
       "36  45.293318  581.379693  538.040307  43.339386  11.360459  \n",
       "37  47.516014  581.318995  537.921005  43.397991  11.041854  \n",
       "\n",
       "[5 rows x 28 columns]"
      ]
     },
     "execution_count": 63,
     "metadata": {},
     "output_type": "execute_result"
    }
   ],
   "source": [
    "df.head()"
   ]
  },
  {
   "cell_type": "markdown",
   "id": "7d375f1f",
   "metadata": {},
   "source": [
    "## Macro Features\n",
    "- USD Index (Yahoo Finance DXY)\n",
    "- Crude Oil Prices (Yahoo Finance CL=F)\n",
    "- Stock Market Index (S&P 500 ^GSPC)  \n",
    "- Volatility Index (VIX ^VIX)"
   ]
  },
  {
   "cell_type": "code",
   "execution_count": 64,
   "id": "643d595f",
   "metadata": {},
   "outputs": [],
   "source": [
    "from pandas_datareader import data as pdr\n",
    "\n",
    "start_date = '2006-02-21'\n",
    "end_date = '2025-07-01'\n",
    "\n",
    "# Define macro tickers for FRED data\n",
    "fred_series = {\n",
    "    'dxy': 'DTWEXBGS',         # Trade-Weighted U.S. Dollar Index\n",
    "    'oil': 'DCOILWTICO',       # Crude Oil Prices (WTI)\n",
    "    'sp500': 'SP500',          # S&P 500 Index \n",
    "    'vix': 'VIXCLS',           # CBOE Volatility Index\n",
    "    'us10y': 'DGS10'           # 10-Year Treasury Yield\n",
    "}\n",
    "\n",
    "macro_df = pd.DataFrame()\n",
    "\n",
    "# Download Adjusted Close prices\n",
    "for name, code in fred_series.items():\n",
    "    series = pdr.DataReader(code, 'fred', start_date, end_date)\n",
    "    series.rename(columns={code: name}, inplace=True)\n",
    "    if macro_df.empty:\n",
    "        macro_df = series\n",
    "    else:\n",
    "        macro_df = macro_df.join(series, how='outer')"
   ]
  },
  {
   "cell_type": "code",
   "execution_count": null,
   "id": "e4f18497",
   "metadata": {},
   "outputs": [
    {
     "name": "stderr",
     "output_type": "stream",
     "text": [
      "C:\\Users\\marty\\AppData\\Local\\Temp\\ipykernel_24496\\3994199074.py:29: FutureWarning: The default fill_method='pad' in Series.pct_change is deprecated and will be removed in a future version. Either fill in any non-leading NA values prior to calling pct_change or specify 'fill_method=None' to not fill NA values.\n",
      "  df[f'{col}_pct_change'] = df[col].pct_change()\n",
      "C:\\Users\\marty\\AppData\\Local\\Temp\\ipykernel_24496\\3994199074.py:29: FutureWarning: The default fill_method='pad' in Series.pct_change is deprecated and will be removed in a future version. Either fill in any non-leading NA values prior to calling pct_change or specify 'fill_method=None' to not fill NA values.\n",
      "  df[f'{col}_pct_change'] = df[col].pct_change()\n"
     ]
    },
    {
     "ename": "KeyError",
     "evalue": "'sp500'",
     "output_type": "error",
     "traceback": [
      "\u001b[31m---------------------------------------------------------------------------\u001b[39m",
      "\u001b[31mKeyError\u001b[39m                                  Traceback (most recent call last)",
      "\u001b[36mFile \u001b[39m\u001b[32mc:\\Programming\\Resources\\miniconda3\\envs\\applied_project\\Lib\\site-packages\\pandas\\core\\indexes\\base.py:3812\u001b[39m, in \u001b[36mIndex.get_loc\u001b[39m\u001b[34m(self, key)\u001b[39m\n\u001b[32m   3811\u001b[39m \u001b[38;5;28;01mtry\u001b[39;00m:\n\u001b[32m-> \u001b[39m\u001b[32m3812\u001b[39m     \u001b[38;5;28;01mreturn\u001b[39;00m \u001b[38;5;28mself\u001b[39m._engine.get_loc(casted_key)\n\u001b[32m   3813\u001b[39m \u001b[38;5;28;01mexcept\u001b[39;00m \u001b[38;5;167;01mKeyError\u001b[39;00m \u001b[38;5;28;01mas\u001b[39;00m err:\n",
      "\u001b[36mFile \u001b[39m\u001b[32mindex.pyx:167\u001b[39m, in \u001b[36mpandas._libs.index.IndexEngine.get_loc\u001b[39m\u001b[34m()\u001b[39m\n",
      "\u001b[36mFile \u001b[39m\u001b[32mindex.pyx:196\u001b[39m, in \u001b[36mpandas._libs.index.IndexEngine.get_loc\u001b[39m\u001b[34m()\u001b[39m\n",
      "\u001b[36mFile \u001b[39m\u001b[32mpandas\\\\_libs\\\\hashtable_class_helper.pxi:7088\u001b[39m, in \u001b[36mpandas._libs.hashtable.PyObjectHashTable.get_item\u001b[39m\u001b[34m()\u001b[39m\n",
      "\u001b[36mFile \u001b[39m\u001b[32mpandas\\\\_libs\\\\hashtable_class_helper.pxi:7096\u001b[39m, in \u001b[36mpandas._libs.hashtable.PyObjectHashTable.get_item\u001b[39m\u001b[34m()\u001b[39m\n",
      "\u001b[31mKeyError\u001b[39m: 'sp500'",
      "\nThe above exception was the direct cause of the following exception:\n",
      "\u001b[31mKeyError\u001b[39m                                  Traceback (most recent call last)",
      "\u001b[36mCell\u001b[39m\u001b[36m \u001b[39m\u001b[32mIn[65]\u001b[39m\u001b[32m, line 29\u001b[39m\n\u001b[32m     27\u001b[39m macro_cols = [\u001b[33m'\u001b[39m\u001b[33mdxy\u001b[39m\u001b[33m'\u001b[39m, \u001b[33m'\u001b[39m\u001b[33moil\u001b[39m\u001b[33m'\u001b[39m, \u001b[33m'\u001b[39m\u001b[33msp500\u001b[39m\u001b[33m'\u001b[39m, \u001b[33m'\u001b[39m\u001b[33mvix\u001b[39m\u001b[33m'\u001b[39m, \u001b[33m'\u001b[39m\u001b[33mus10y\u001b[39m\u001b[33m'\u001b[39m]\n\u001b[32m     28\u001b[39m \u001b[38;5;28;01mfor\u001b[39;00m col \u001b[38;5;129;01min\u001b[39;00m macro_cols:\n\u001b[32m---> \u001b[39m\u001b[32m29\u001b[39m     df[\u001b[33mf\u001b[39m\u001b[33m'\u001b[39m\u001b[38;5;132;01m{\u001b[39;00mcol\u001b[38;5;132;01m}\u001b[39;00m\u001b[33m_pct_change\u001b[39m\u001b[33m'\u001b[39m] = df[col].pct_change()\n\u001b[32m     31\u001b[39m \u001b[38;5;66;03m# Drop missing rows\u001b[39;00m\n\u001b[32m     32\u001b[39m df.sort_values(\u001b[33m'\u001b[39m\u001b[33mdate\u001b[39m\u001b[33m'\u001b[39m, inplace=\u001b[38;5;28;01mTrue\u001b[39;00m)\n",
      "\u001b[36mFile \u001b[39m\u001b[32mc:\\Programming\\Resources\\miniconda3\\envs\\applied_project\\Lib\\site-packages\\pandas\\core\\frame.py:4107\u001b[39m, in \u001b[36mDataFrame.__getitem__\u001b[39m\u001b[34m(self, key)\u001b[39m\n\u001b[32m   4105\u001b[39m \u001b[38;5;28;01mif\u001b[39;00m \u001b[38;5;28mself\u001b[39m.columns.nlevels > \u001b[32m1\u001b[39m:\n\u001b[32m   4106\u001b[39m     \u001b[38;5;28;01mreturn\u001b[39;00m \u001b[38;5;28mself\u001b[39m._getitem_multilevel(key)\n\u001b[32m-> \u001b[39m\u001b[32m4107\u001b[39m indexer = \u001b[38;5;28mself\u001b[39m.columns.get_loc(key)\n\u001b[32m   4108\u001b[39m \u001b[38;5;28;01mif\u001b[39;00m is_integer(indexer):\n\u001b[32m   4109\u001b[39m     indexer = [indexer]\n",
      "\u001b[36mFile \u001b[39m\u001b[32mc:\\Programming\\Resources\\miniconda3\\envs\\applied_project\\Lib\\site-packages\\pandas\\core\\indexes\\base.py:3819\u001b[39m, in \u001b[36mIndex.get_loc\u001b[39m\u001b[34m(self, key)\u001b[39m\n\u001b[32m   3814\u001b[39m     \u001b[38;5;28;01mif\u001b[39;00m \u001b[38;5;28misinstance\u001b[39m(casted_key, \u001b[38;5;28mslice\u001b[39m) \u001b[38;5;129;01mor\u001b[39;00m (\n\u001b[32m   3815\u001b[39m         \u001b[38;5;28misinstance\u001b[39m(casted_key, abc.Iterable)\n\u001b[32m   3816\u001b[39m         \u001b[38;5;129;01mand\u001b[39;00m \u001b[38;5;28many\u001b[39m(\u001b[38;5;28misinstance\u001b[39m(x, \u001b[38;5;28mslice\u001b[39m) \u001b[38;5;28;01mfor\u001b[39;00m x \u001b[38;5;129;01min\u001b[39;00m casted_key)\n\u001b[32m   3817\u001b[39m     ):\n\u001b[32m   3818\u001b[39m         \u001b[38;5;28;01mraise\u001b[39;00m InvalidIndexError(key)\n\u001b[32m-> \u001b[39m\u001b[32m3819\u001b[39m     \u001b[38;5;28;01mraise\u001b[39;00m \u001b[38;5;167;01mKeyError\u001b[39;00m(key) \u001b[38;5;28;01mfrom\u001b[39;00m\u001b[38;5;250m \u001b[39m\u001b[34;01merr\u001b[39;00m\n\u001b[32m   3820\u001b[39m \u001b[38;5;28;01mexcept\u001b[39;00m \u001b[38;5;167;01mTypeError\u001b[39;00m:\n\u001b[32m   3821\u001b[39m     \u001b[38;5;66;03m# If we have a listlike key, _check_indexing_error will raise\u001b[39;00m\n\u001b[32m   3822\u001b[39m     \u001b[38;5;66;03m#  InvalidIndexError. Otherwise we fall through and re-raise\u001b[39;00m\n\u001b[32m   3823\u001b[39m     \u001b[38;5;66;03m#  the TypeError.\u001b[39;00m\n\u001b[32m   3824\u001b[39m     \u001b[38;5;28mself\u001b[39m._check_indexing_error(key)\n",
      "\u001b[31mKeyError\u001b[39m: 'sp500'"
     ]
    }
   ],
   "source": [
    "# Obtain S&P 500 data from spreadsheet\n",
    "sp500 = pd.read_csv(\"S&P 500 Historical Data.csv\")\n",
    "sp500.rename(columns={'Date': 'date', 'Price': 'sp500'}, inplace=True)\n",
    "\n",
    "# Convert date column to datetime\n",
    "sp500['date'] = pd.to_datetime(sp500['date'])\n",
    "\n",
    "# Clean numeric values (remove commas, % if present)\n",
    "sp500['sp500'] = sp500['sp500'].astype(str).str.replace(',', '')\n",
    "sp500['sp500'] = pd.to_numeric(sp500['sp500'], errors='coerce')\n",
    "\n",
    "# Keep only date and close price\n",
    "sp500 = sp500[['date', 'sp500']]"
   ]
  },
  {
   "cell_type": "code",
   "execution_count": null,
   "id": "37a4de76",
   "metadata": {},
   "outputs": [],
   "source": [
    "# Merge with your gold DataFrame\n",
    "df = df.merge(sp500, on='date', how='left')\n",
    "\n",
    "# Merge macro data with gold dataframe\n",
    "# Ensure 'date' is datetime type\n",
    "df['date'] = pd.to_datetime(df['date'])\n",
    "macro_df = macro_df.reset_index().rename(columns={'DATE': 'date'})\n",
    "\n",
    "# Merge\n",
    "df = df.merge(macro_df, on='date', how='left')\n",
    "\n",
    "# Calculate percentage changes for macro features\n",
    "macro_cols = ['dxy', 'oil', 'sp500', 'vix', 'us10y']\n",
    "for col in macro_cols:\n",
    "    df[f'{col}_pct_change'] = df[col].pct_change()\n",
    "\n",
    "# Drop missing rows\n",
    "df.sort_values('date', inplace=True)\n",
    "df.dropna(inplace=True)"
   ]
  }
 ],
 "metadata": {
  "kernelspec": {
   "display_name": "applied_project",
   "language": "python",
   "name": "python3"
  },
  "language_info": {
   "codemirror_mode": {
    "name": "ipython",
    "version": 3
   },
   "file_extension": ".py",
   "mimetype": "text/x-python",
   "name": "python",
   "nbconvert_exporter": "python",
   "pygments_lexer": "ipython3",
   "version": "3.13.5"
  }
 },
 "nbformat": 4,
 "nbformat_minor": 5
}
