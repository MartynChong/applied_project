{
 "cells": [
  {
   "cell_type": "markdown",
   "id": "033873db",
   "metadata": {},
   "source": [
    "conda create --name applied_project numpy ipykernel jupyter pandas matplotlib yfinance"
   ]
  },
  {
   "cell_type": "markdown",
   "id": "7b4f618d",
   "metadata": {},
   "source": [
    "# Data Preparation\n",
    "- Gold Features: Open, High, Low, Close, Volume, Lagged Features, Returns, Price Changes\n",
    "- Technical Features: MA, EMA, Bollinger Bands, RSI, MACD, ATR\n",
    "- Macro Features: USD Index DXY, Crude Oil Index, Interest Rates, CPI, S&P 500 Index, VIX, Money Supply\n",
    "- Categorical Features: Date, Month, Year, Day"
   ]
  },
  {
   "cell_type": "code",
   "execution_count": null,
   "id": "0604572f",
   "metadata": {},
   "outputs": [
    {
     "name": "stderr",
     "output_type": "stream",
     "text": [
      "[*********************100%***********************]  1 of 1 completed"
     ]
    },
    {
     "name": "stdout",
     "output_type": "stream",
     "text": [
      "Price            Close        High         Low        Open Volume\n",
      "Ticker            GC=F        GC=F        GC=F        GC=F   GC=F\n",
      "Date                                                             \n",
      "2000-08-30  273.899994  273.899994  273.899994  273.899994      0\n",
      "2000-08-31  278.299988  278.299988  274.799988  274.799988      0\n",
      "2000-09-01  277.000000  277.000000  277.000000  277.000000      0\n",
      "2000-09-05  275.799988  275.799988  275.799988  275.799988      2\n",
      "2000-09-06  274.200012  274.200012  274.200012  274.200012      0\n"
     ]
    },
    {
     "name": "stderr",
     "output_type": "stream",
     "text": [
      "\n"
     ]
    }
   ],
   "source": [
    "import yfinance as yf\n",
    "\n",
    "# Download historical gold prices\n",
    "gold_data = yf.download('GC=F', start='2000-01-01', end='2025-01-01')\n",
    "print(gold_data.head())\n",
    "gold_data.columns = gold_data.columns.droplevel(1) # Drop Ticker column\n",
    "\n"
   ]
  },
  {
   "cell_type": "code",
   "execution_count": null,
   "id": "aabd1eed",
   "metadata": {},
   "outputs": [],
   "source": []
  }
 ],
 "metadata": {
  "kernelspec": {
   "display_name": "applied_project",
   "language": "python",
   "name": "python3"
  },
  "language_info": {
   "codemirror_mode": {
    "name": "ipython",
    "version": 3
   },
   "file_extension": ".py",
   "mimetype": "text/x-python",
   "name": "python",
   "nbconvert_exporter": "python",
   "pygments_lexer": "ipython3",
   "version": "3.13.5"
  }
 },
 "nbformat": 4,
 "nbformat_minor": 5
}
